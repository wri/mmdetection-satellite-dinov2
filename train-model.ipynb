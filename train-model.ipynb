{
 "cells": [
  {
   "cell_type": "markdown",
   "id": "3cdd1df5-c828-46d8-9615-d2c44a47a515",
   "metadata": {},
   "source": [
    "# Install required packages\n",
    "- Torch 2.1.2 with Cuda 12.1\n",
    "- Torchvision 0.16.2 with Cuda 12.1\n",
    "- MMCV 2.1.0 with cuda 12.1\n",
    "- MMdetection 3.0.3\n",
    "- TIMM\n",
    "\n",
    "# Download weights file\n",
    "- Vision Transformer huge (630M) / 16"
   ]
  },
  {
   "cell_type": "code",
   "execution_count": null,
   "id": "c14b4f69-e9d2-4dde-a728-2a1de5431cf4",
   "metadata": {},
   "outputs": [],
   "source": [
    "!pip install torch==2.1.2+cu121 torchvision==0.16.2+cu121 --index-url https://download.pytorch.org/whl/cu121\n",
    "!pip install mmcv==2.1.0 -f https://download.openmmlab.com/mmcv/dist/cu121/torch2.1/index.html\n",
    "!pip install -U openmim\n",
    "!mim install mmdet\n",
    "!pip install timm\n",
    "\n",
    "!wget s3.amazonaws.com/dataforgood-fb-data/forests/v1/models/saved_checkpoints/SSLhuge_satellite.pth"
   ]
  },
  {
   "cell_type": "code",
   "execution_count": null,
   "id": "78003048-ca44-42b1-adb6-e6e18989e7d0",
   "metadata": {},
   "outputs": [],
   "source": [
    "# Check to make sure that all imports are correct\n",
    "import shutil\n",
    "import os\n",
    "\n",
    "import torch\n",
    "print(torch.__version__, torch.cuda.is_available())\n",
    "\n",
    "# Check MMDetection installation\n",
    "import mmdet\n",
    "print(mmdet.__version__)\n",
    "\n",
    "import mmcv\n",
    "print('mmcv', mmcv.__version__)\n",
    "\n",
    "import mmengine\n",
    "print(mmengine.__version__)\n",
    "\n",
    "# Check mmcv installation\n",
    "from mmcv.ops import get_compiling_cuda_version, get_compiler_version\n",
    "print(get_compiling_cuda_version())\n",
    "print(get_compiler_version())"
   ]
  },
  {
   "cell_type": "markdown",
   "id": "82374227-34e7-4754-ace6-14515f881354",
   "metadata": {},
   "source": [
    "# Download and unzip the github repository"
   ]
  },
  {
   "cell_type": "code",
   "execution_count": null,
   "id": "9bc95470-8d01-482c-afc1-23c148bec8fc",
   "metadata": {},
   "outputs": [],
   "source": [
    "!wget https://github.com/wri/mmdetection-satellite-dinov2/archive/refs/heads/main.zip\n",
    "!unzip -o main.zip"
   ]
  },
  {
   "cell_type": "markdown",
   "id": "ebd63951-7226-43df-899b-1d7d1d90ff7c",
   "metadata": {},
   "source": [
    "# Mount the google drive and copy the training data, move the backbone weights"
   ]
  },
  {
   "cell_type": "code",
   "execution_count": null,
   "id": "bd8b82f6-08d5-4c86-964e-8618e29ed2b3",
   "metadata": {},
   "outputs": [],
   "source": [
    "# Mount google drive (alternatively copy training data from AWS)\n",
    "import os\n",
    "import shutil\n",
    "from google.colab import drive\n",
    "drive.mount('/content/drive')\n",
    "!unzip drive/MyDrive/coco/tree-may-3.zip -d mmdetection-satellite-dinov2-main/data/coco/\n",
    "shutil.move(\"SSLhuge_satellite.pth\", \"mmdetection-satellite-dinov2-main/models/SSLhuge_satellite.pth\")"
   ]
  },
  {
   "cell_type": "markdown",
   "id": "55428a25-f29a-47f6-88d0-7aa372d50802",
   "metadata": {},
   "source": [
    "# Copy edited files to MMDET sys.path location"
   ]
  },
  {
   "cell_type": "code",
   "execution_count": null,
   "id": "9df3399d-2c1f-4fa0-95f4-d41f5deff35b",
   "metadata": {},
   "outputs": [],
   "source": [
    "import mmdet\n",
    "import shutil\n",
    "mmdet_location = \"/\".join(mmdet.__file__.split(\"/\")[:-1]) + \"/\"\n",
    "base_location = '/content/mmdetection-satellite-dinov2-main/mmdet/'\n",
    "\n",
    "files_to_move = ['/models/backbones/SSLVisionTransformer.py',\n",
    "                 '/models/backbones/vit_rvsa_mtp_branches.py',\n",
    "                 'models/backbones/__init__.py',\n",
    "                 'models/necks/__init__.py',\n",
    "                 'models/dense_heads/__init__.py',\n",
    "                 'models/necks/fpn.py',\n",
    "                 'models/dense_heads/crpn_head.py',\n",
    "                 'models/dense_heads/cascade_rpn_head.py',\n",
    "                 'models/dense_heads/detr_head.py',\n",
    "                 'models/dense_heads/dino_head.py',\n",
    "                 'models/task_modules/assigners/__init__.py',\n",
    "                 'models/task_modules/assigners/dynamic_assigner.py',\n",
    "                 'models/task_modules/assigners/ranking_assigner.py',\n",
    "                 'models/task_modules/assigners/iou2d_calculator.py',\n",
    "                 'models/task_modules/assigners/hierarchical_assigner.py',\n",
    "                 'models/layers/transformer/dino_layers.py'\n",
    "                ]\n",
    "\n",
    "\n",
    "for file in files_to_move:\n",
    "    shutil.copy(f\"{base_location}{file}\",\n",
    "                f'{mmdet_location}{file}')"
   ]
  },
  {
   "cell_type": "markdown",
   "id": "0e563adf-aae4-4640-b79c-ceb38e0e2317",
   "metadata": {},
   "source": [
    "# Train model"
   ]
  },
  {
   "cell_type": "code",
   "execution_count": null,
   "id": "a81fc012-715a-4030-a063-1f8720626926",
   "metadata": {},
   "outputs": [],
   "source": [
    "import sys\n",
    "import os.path as osp\n",
    "sys.path.append(osp.abspath('mmdetection-satellite-dinov2-main/'))\n",
    "\n",
    "from mmdet.apis import init_detector\n",
    "from mmengine.runner import Runner\n",
    "from mmengine.config import Config, DictAction\n",
    "\n",
    "config='mmdetection-satellite-dinov2-main/projects/ViTDet/configs/vitdet-codetr.py'\n",
    "checkpoint = 'mmdetection-satellite-dinov2-main/models/SSLhuge_satellite.pth'\n",
    "cfg = Config.fromfile(config)\n",
    "cfg['model']['backbone']['init_cfg']['checkpoint'] = checkpoint\n",
    "cfg['resume'] = True\n",
    "cfg['train_cfg']['max_epochs'] = 80\n",
    "cfg.work_dir = osp.join('./work_dirs', osp.splitext(osp.basename(config))[0] + '-codetr')\n",
    "\n",
    "runner = Runner.from_cfg(cfg)\n",
    "runner.train()"
   ]
  }
 ],
 "metadata": {
  "kernelspec": {
   "display_name": "Python 3 (ipykernel)",
   "language": "python",
   "name": "python3"
  },
  "language_info": {
   "codemirror_mode": {
    "name": "ipython",
    "version": 3
   },
   "file_extension": ".py",
   "mimetype": "text/x-python",
   "name": "python",
   "nbconvert_exporter": "python",
   "pygments_lexer": "ipython3",
   "version": "3.10.13"
  }
 },
 "nbformat": 4,
 "nbformat_minor": 5
}
